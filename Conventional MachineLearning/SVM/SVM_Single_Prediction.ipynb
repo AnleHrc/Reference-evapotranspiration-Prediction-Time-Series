{
 "cells": [
  {
   "cell_type": "code",
   "execution_count": 83,
   "metadata": {
    "pycharm": {
     "name": "#%%\n"
    }
   },
   "outputs": [],
   "source": [
    "import os\n",
    "import glob\n",
    "import matplotlib\n",
    "import numpy as np\n",
    "from numpy import array\n",
    "import pandas as pd\n",
    "import warnings\n",
    "import math\n",
    "from matplotlib import pyplot as plt\n",
    "from sklearn.metrics import r2_score as r2, mean_squared_error\n",
    "# 忽略警告\n",
    "warnings.filterwarnings(\"ignore\", category=matplotlib.MatplotlibDeprecationWarning)\n",
    "from sklearn.preprocessing import MinMaxScaler\n",
    "from sklearn.metrics import r2_score as r2"
   ]
  },
  {
   "cell_type": "code",
   "execution_count": 84,
   "metadata": {
    "pycharm": {
     "name": "#%%\n"
    }
   },
   "outputs": [],
   "source": [
    "df = pd.read_csv('../../Data/ProcessedData/sorted_58606.csv',header=None)"
   ]
  },
  {
   "cell_type": "code",
   "execution_count": 85,
   "metadata": {
    "pycharm": {
     "name": "#%%\n"
    }
   },
   "outputs": [
    {
     "data": {
      "text/plain": "          0        1        2      3     4   5   6     7     8      9    10  \\\n0      58606  2840.00  11558.0  264.0  1951  12   1  11.2   4.0   0.00  4.0   \n1      58606  2840.00  11558.0  264.0  1951  12   2  14.0   8.0   0.00  4.4   \n2      58606  2840.00  11558.0  264.0  1951  12   3  15.1   8.7   0.50  7.0   \n3      58606  2840.00  11558.0  264.0  1951  12   4  13.8   4.8   8.10  6.2   \n4      58606  2840.00  11558.0  264.0  1951  12   5  11.4   2.3   7.50  3.3   \n...      ...      ...      ...    ...   ...  ..  ..   ...   ...    ...  ...   \n24525  58606    28.58    115.9   47.2  2021   8  27  30.5  23.1   2.20  2.1   \n24526  58606    28.58    115.9   47.2  2021   8  28  32.7  24.6   3.90  1.0   \n24527  58606    28.58    115.9   47.2  2021   8  29  34.4  26.0   7.35  1.3   \n24528  58606    28.58    115.9   47.2  2021   8  30  35.4  27.7   8.10  1.3   \n24529  58606    28.58    115.9   47.2  2021   8  31  35.7  27.8  11.10  1.5   \n\n         11        12      13  \n0      88.0       0.0  0.8903  \n1      83.0       0.0  1.2308  \n2      75.0       0.0  1.8942  \n3      78.0       0.0  1.7360  \n4      71.0       0.0  1.5499  \n...     ...       ...     ...  \n24525  85.0      31.5  2.8778  \n24526  80.5  999990.0  3.3582  \n24527  76.3       0.0  4.4921  \n24528  74.0  999990.0  4.8488  \n24529  66.0       0.0  5.7796  \n\n[24530 rows x 14 columns]",
      "text/html": "<div>\n<style scoped>\n    .dataframe tbody tr th:only-of-type {\n        vertical-align: middle;\n    }\n\n    .dataframe tbody tr th {\n        vertical-align: top;\n    }\n\n    .dataframe thead th {\n        text-align: right;\n    }\n</style>\n<table border=\"1\" class=\"dataframe\">\n  <thead>\n    <tr style=\"text-align: right;\">\n      <th></th>\n      <th>0</th>\n      <th>1</th>\n      <th>2</th>\n      <th>3</th>\n      <th>4</th>\n      <th>5</th>\n      <th>6</th>\n      <th>7</th>\n      <th>8</th>\n      <th>9</th>\n      <th>10</th>\n      <th>11</th>\n      <th>12</th>\n      <th>13</th>\n    </tr>\n  </thead>\n  <tbody>\n    <tr>\n      <th>0</th>\n      <td>58606</td>\n      <td>2840.00</td>\n      <td>11558.0</td>\n      <td>264.0</td>\n      <td>1951</td>\n      <td>12</td>\n      <td>1</td>\n      <td>11.2</td>\n      <td>4.0</td>\n      <td>0.00</td>\n      <td>4.0</td>\n      <td>88.0</td>\n      <td>0.0</td>\n      <td>0.8903</td>\n    </tr>\n    <tr>\n      <th>1</th>\n      <td>58606</td>\n      <td>2840.00</td>\n      <td>11558.0</td>\n      <td>264.0</td>\n      <td>1951</td>\n      <td>12</td>\n      <td>2</td>\n      <td>14.0</td>\n      <td>8.0</td>\n      <td>0.00</td>\n      <td>4.4</td>\n      <td>83.0</td>\n      <td>0.0</td>\n      <td>1.2308</td>\n    </tr>\n    <tr>\n      <th>2</th>\n      <td>58606</td>\n      <td>2840.00</td>\n      <td>11558.0</td>\n      <td>264.0</td>\n      <td>1951</td>\n      <td>12</td>\n      <td>3</td>\n      <td>15.1</td>\n      <td>8.7</td>\n      <td>0.50</td>\n      <td>7.0</td>\n      <td>75.0</td>\n      <td>0.0</td>\n      <td>1.8942</td>\n    </tr>\n    <tr>\n      <th>3</th>\n      <td>58606</td>\n      <td>2840.00</td>\n      <td>11558.0</td>\n      <td>264.0</td>\n      <td>1951</td>\n      <td>12</td>\n      <td>4</td>\n      <td>13.8</td>\n      <td>4.8</td>\n      <td>8.10</td>\n      <td>6.2</td>\n      <td>78.0</td>\n      <td>0.0</td>\n      <td>1.7360</td>\n    </tr>\n    <tr>\n      <th>4</th>\n      <td>58606</td>\n      <td>2840.00</td>\n      <td>11558.0</td>\n      <td>264.0</td>\n      <td>1951</td>\n      <td>12</td>\n      <td>5</td>\n      <td>11.4</td>\n      <td>2.3</td>\n      <td>7.50</td>\n      <td>3.3</td>\n      <td>71.0</td>\n      <td>0.0</td>\n      <td>1.5499</td>\n    </tr>\n    <tr>\n      <th>...</th>\n      <td>...</td>\n      <td>...</td>\n      <td>...</td>\n      <td>...</td>\n      <td>...</td>\n      <td>...</td>\n      <td>...</td>\n      <td>...</td>\n      <td>...</td>\n      <td>...</td>\n      <td>...</td>\n      <td>...</td>\n      <td>...</td>\n      <td>...</td>\n    </tr>\n    <tr>\n      <th>24525</th>\n      <td>58606</td>\n      <td>28.58</td>\n      <td>115.9</td>\n      <td>47.2</td>\n      <td>2021</td>\n      <td>8</td>\n      <td>27</td>\n      <td>30.5</td>\n      <td>23.1</td>\n      <td>2.20</td>\n      <td>2.1</td>\n      <td>85.0</td>\n      <td>31.5</td>\n      <td>2.8778</td>\n    </tr>\n    <tr>\n      <th>24526</th>\n      <td>58606</td>\n      <td>28.58</td>\n      <td>115.9</td>\n      <td>47.2</td>\n      <td>2021</td>\n      <td>8</td>\n      <td>28</td>\n      <td>32.7</td>\n      <td>24.6</td>\n      <td>3.90</td>\n      <td>1.0</td>\n      <td>80.5</td>\n      <td>999990.0</td>\n      <td>3.3582</td>\n    </tr>\n    <tr>\n      <th>24527</th>\n      <td>58606</td>\n      <td>28.58</td>\n      <td>115.9</td>\n      <td>47.2</td>\n      <td>2021</td>\n      <td>8</td>\n      <td>29</td>\n      <td>34.4</td>\n      <td>26.0</td>\n      <td>7.35</td>\n      <td>1.3</td>\n      <td>76.3</td>\n      <td>0.0</td>\n      <td>4.4921</td>\n    </tr>\n    <tr>\n      <th>24528</th>\n      <td>58606</td>\n      <td>28.58</td>\n      <td>115.9</td>\n      <td>47.2</td>\n      <td>2021</td>\n      <td>8</td>\n      <td>30</td>\n      <td>35.4</td>\n      <td>27.7</td>\n      <td>8.10</td>\n      <td>1.3</td>\n      <td>74.0</td>\n      <td>999990.0</td>\n      <td>4.8488</td>\n    </tr>\n    <tr>\n      <th>24529</th>\n      <td>58606</td>\n      <td>28.58</td>\n      <td>115.9</td>\n      <td>47.2</td>\n      <td>2021</td>\n      <td>8</td>\n      <td>31</td>\n      <td>35.7</td>\n      <td>27.8</td>\n      <td>11.10</td>\n      <td>1.5</td>\n      <td>66.0</td>\n      <td>0.0</td>\n      <td>5.7796</td>\n    </tr>\n  </tbody>\n</table>\n<p>24530 rows × 14 columns</p>\n</div>"
     },
     "execution_count": 85,
     "metadata": {},
     "output_type": "execute_result"
    }
   ],
   "source": [
    "df"
   ]
  },
  {
   "cell_type": "code",
   "execution_count": 86,
   "metadata": {
    "pycharm": {
     "name": "#%%\n"
    }
   },
   "outputs": [],
   "source": [
    "df = df.iloc[:,7:]"
   ]
  },
  {
   "cell_type": "code",
   "execution_count": 87,
   "metadata": {
    "pycharm": {
     "name": "#%%\n"
    }
   },
   "outputs": [
    {
     "data": {
      "text/plain": "         7     8      9    10    11        12      13\n0      11.2   4.0   0.00  4.0  88.0       0.0  0.8903\n1      14.0   8.0   0.00  4.4  83.0       0.0  1.2308\n2      15.1   8.7   0.50  7.0  75.0       0.0  1.8942\n3      13.8   4.8   8.10  6.2  78.0       0.0  1.7360\n4      11.4   2.3   7.50  3.3  71.0       0.0  1.5499\n...     ...   ...    ...  ...   ...       ...     ...\n24525  30.5  23.1   2.20  2.1  85.0      31.5  2.8778\n24526  32.7  24.6   3.90  1.0  80.5  999990.0  3.3582\n24527  34.4  26.0   7.35  1.3  76.3       0.0  4.4921\n24528  35.4  27.7   8.10  1.3  74.0  999990.0  4.8488\n24529  35.7  27.8  11.10  1.5  66.0       0.0  5.7796\n\n[24530 rows x 7 columns]",
      "text/html": "<div>\n<style scoped>\n    .dataframe tbody tr th:only-of-type {\n        vertical-align: middle;\n    }\n\n    .dataframe tbody tr th {\n        vertical-align: top;\n    }\n\n    .dataframe thead th {\n        text-align: right;\n    }\n</style>\n<table border=\"1\" class=\"dataframe\">\n  <thead>\n    <tr style=\"text-align: right;\">\n      <th></th>\n      <th>7</th>\n      <th>8</th>\n      <th>9</th>\n      <th>10</th>\n      <th>11</th>\n      <th>12</th>\n      <th>13</th>\n    </tr>\n  </thead>\n  <tbody>\n    <tr>\n      <th>0</th>\n      <td>11.2</td>\n      <td>4.0</td>\n      <td>0.00</td>\n      <td>4.0</td>\n      <td>88.0</td>\n      <td>0.0</td>\n      <td>0.8903</td>\n    </tr>\n    <tr>\n      <th>1</th>\n      <td>14.0</td>\n      <td>8.0</td>\n      <td>0.00</td>\n      <td>4.4</td>\n      <td>83.0</td>\n      <td>0.0</td>\n      <td>1.2308</td>\n    </tr>\n    <tr>\n      <th>2</th>\n      <td>15.1</td>\n      <td>8.7</td>\n      <td>0.50</td>\n      <td>7.0</td>\n      <td>75.0</td>\n      <td>0.0</td>\n      <td>1.8942</td>\n    </tr>\n    <tr>\n      <th>3</th>\n      <td>13.8</td>\n      <td>4.8</td>\n      <td>8.10</td>\n      <td>6.2</td>\n      <td>78.0</td>\n      <td>0.0</td>\n      <td>1.7360</td>\n    </tr>\n    <tr>\n      <th>4</th>\n      <td>11.4</td>\n      <td>2.3</td>\n      <td>7.50</td>\n      <td>3.3</td>\n      <td>71.0</td>\n      <td>0.0</td>\n      <td>1.5499</td>\n    </tr>\n    <tr>\n      <th>...</th>\n      <td>...</td>\n      <td>...</td>\n      <td>...</td>\n      <td>...</td>\n      <td>...</td>\n      <td>...</td>\n      <td>...</td>\n    </tr>\n    <tr>\n      <th>24525</th>\n      <td>30.5</td>\n      <td>23.1</td>\n      <td>2.20</td>\n      <td>2.1</td>\n      <td>85.0</td>\n      <td>31.5</td>\n      <td>2.8778</td>\n    </tr>\n    <tr>\n      <th>24526</th>\n      <td>32.7</td>\n      <td>24.6</td>\n      <td>3.90</td>\n      <td>1.0</td>\n      <td>80.5</td>\n      <td>999990.0</td>\n      <td>3.3582</td>\n    </tr>\n    <tr>\n      <th>24527</th>\n      <td>34.4</td>\n      <td>26.0</td>\n      <td>7.35</td>\n      <td>1.3</td>\n      <td>76.3</td>\n      <td>0.0</td>\n      <td>4.4921</td>\n    </tr>\n    <tr>\n      <th>24528</th>\n      <td>35.4</td>\n      <td>27.7</td>\n      <td>8.10</td>\n      <td>1.3</td>\n      <td>74.0</td>\n      <td>999990.0</td>\n      <td>4.8488</td>\n    </tr>\n    <tr>\n      <th>24529</th>\n      <td>35.7</td>\n      <td>27.8</td>\n      <td>11.10</td>\n      <td>1.5</td>\n      <td>66.0</td>\n      <td>0.0</td>\n      <td>5.7796</td>\n    </tr>\n  </tbody>\n</table>\n<p>24530 rows × 7 columns</p>\n</div>"
     },
     "execution_count": 87,
     "metadata": {},
     "output_type": "execute_result"
    }
   ],
   "source": [
    "df"
   ]
  },
  {
   "cell_type": "code",
   "execution_count": 88,
   "metadata": {
    "pycharm": {
     "name": "#%%\n"
    }
   },
   "outputs": [],
   "source": [
    "from sklearn.preprocessing import MinMaxScaler\n",
    "scaler = MinMaxScaler(feature_range=(0,1))\n",
    "dataset = scaler.fit_transform(df)"
   ]
  },
  {
   "cell_type": "code",
   "execution_count": 89,
   "metadata": {
    "pycharm": {
     "name": "#%%\n"
    }
   },
   "outputs": [],
   "source": [
    "scaler_data_len = len(df.columns)"
   ]
  },
  {
   "cell_type": "code",
   "execution_count": 90,
   "metadata": {
    "pycharm": {
     "name": "#%%\n"
    }
   },
   "outputs": [],
   "source": [
    "def splitData(var,per_test):\n",
    "    num_test=int(len(var)*per_test)\n",
    "    train_size=int(len(var)-num_test)\n",
    "    train_data=var[0:train_size]\n",
    "    test_data=var[train_size:train_size+num_test]\n",
    "    return train_data,test_data"
   ]
  },
  {
   "cell_type": "code",
   "execution_count": 91,
   "metadata": {
    "pycharm": {
     "name": "#%%\n"
    }
   },
   "outputs": [],
   "source": [
    "train,test = splitData(dataset,0.2)"
   ]
  },
  {
   "cell_type": "code",
   "execution_count": 92,
   "metadata": {
    "pycharm": {
     "name": "#%%\n"
    }
   },
   "outputs": [
    {
     "name": "stdout",
     "output_type": "stream",
     "text": [
      "train_len: 19624 test_len: 4906\n"
     ]
    }
   ],
   "source": [
    "print('train_len:',len(train),'test_len:',len(test))"
   ]
  },
  {
   "cell_type": "code",
   "execution_count": 93,
   "metadata": {
    "pycharm": {
     "name": "#%%\n"
    }
   },
   "outputs": [
    {
     "data": {
      "text/plain": "7"
     },
     "execution_count": 93,
     "metadata": {},
     "output_type": "execute_result"
    }
   ],
   "source": [
    "train.shape[1]"
   ]
  },
  {
   "cell_type": "code",
   "execution_count": 94,
   "metadata": {
    "pycharm": {
     "name": "#%%\n"
    }
   },
   "outputs": [
    {
     "data": {
      "text/plain": "array([[0.33932584, 0.33171913, 0.        , 0.25806452, 0.84810127,\n        0.        , 0.07013357],\n       [0.40224719, 0.42857143, 0.        , 0.28387097, 0.78481013,\n        0.        , 0.10981269],\n       [0.42696629, 0.44552058, 0.03787879, 0.4516129 , 0.6835443 ,\n        0.        , 0.18711996],\n       [0.39775281, 0.35108959, 0.61363636, 0.4       , 0.72151899,\n        0.        , 0.16868461],\n       [0.34382022, 0.2905569 , 0.56818182, 0.21290323, 0.63291139,\n        0.        , 0.14699802],\n       [0.4247191 , 0.23486683, 0.67424242, 0.10322581, 0.78481013,\n        0.        , 0.11552275],\n       [0.40674157, 0.28329298, 0.67424242, 0.11612903, 0.75949367,\n        0.        , 0.1211629 ],\n       [0.44494382, 0.24697337, 0.58333333, 0.07741935, 0.83544304,\n        0.        , 0.10474355],\n       [0.50561798, 0.31234867, 0.71969697, 0.12258065, 0.75949367,\n        0.        , 0.14642701],\n       [0.50561798, 0.29782082, 0.6969697 , 0.10967742, 0.78481013,\n        0.        , 0.13694132]])"
     },
     "execution_count": 94,
     "metadata": {},
     "output_type": "execute_result"
    }
   ],
   "source": [
    "train[0:10]"
   ]
  },
  {
   "cell_type": "code",
   "execution_count": 95,
   "metadata": {
    "pycharm": {
     "name": "#%%\n"
    }
   },
   "outputs": [
    {
     "data": {
      "text/plain": "array([[0.33932584, 0.33171913, 0.        , 0.25806452, 0.84810127,\n        0.        , 0.07013357],\n       [0.40224719, 0.42857143, 0.        , 0.28387097, 0.78481013,\n        0.        , 0.10981269],\n       [0.42696629, 0.44552058, 0.03787879, 0.4516129 , 0.6835443 ,\n        0.        , 0.18711996]])"
     },
     "execution_count": 95,
     "metadata": {},
     "output_type": "execute_result"
    }
   ],
   "source": [
    "train[0:3,0:7]"
   ]
  },
  {
   "cell_type": "code",
   "execution_count": 96,
   "metadata": {
    "pycharm": {
     "name": "#%%\n"
    }
   },
   "outputs": [
    {
     "data": {
      "text/plain": "array([0.16868461])"
     },
     "execution_count": 96,
     "metadata": {},
     "output_type": "execute_result"
    }
   ],
   "source": [
    "train[3:4,6]"
   ]
  },
  {
   "cell_type": "markdown",
   "metadata": {
    "pycharm": {
     "name": "#%% md\n"
    }
   },
   "source": [
    "### 1day - prediction - 1day (1d-p-1d)"
   ]
  },
  {
   "cell_type": "code",
   "execution_count": 97,
   "metadata": {
    "pycharm": {
     "name": "#%%\n"
    }
   },
   "outputs": [],
   "source": [
    "# def createXY(data,n_past):\n",
    "#     dataX = []\n",
    "#     dataY = []\n",
    "#     for i in range(n_past,len(data)):\n",
    "#         dataX.append(data[i-n_past:i,0:data.shape[1]])\n",
    "#\n",
    "#         dataY.append(data[i,6])\n",
    "#     return np.array(dataX),np.array(dataY)\n",
    "def createXY(data,n_past,n_steps_out):\n",
    "    dataX,dataY = list(),list()\n",
    "    for i in range(len(data)):\n",
    "        ## such as: len(data) = 19624\n",
    "        end_ix = i + n_past ## 0+3=3,1+3=4,...,19618+3=19621\n",
    "        out_end_ix = end_ix + n_steps_out ## 3+3=6,4+3=7,...,19621+3=19624\n",
    "        # print('out_end_ix:',out_end_ix)\n",
    "        '''\n",
    "        加入此处判断，使得最终的dataX和dataY中每行的数组长度一致，进而可以转换为array(数组),如若不加以限制，\n",
    "        则导致最后几次循环由于i是在len(data)范围内的，\n",
    "        但是由于out_end_ix=end_ix + n_steps_out,最终会超出data的数据范围，而导致其无法获取到数据,\n",
    "        加入dataY之后，最后几行的数据长度是和前面的数据长度不一致，最终导致无法进行array转换\n",
    "        '''\n",
    "        if out_end_ix > len(data): ## 6 < len(data),7<len(data),...,19623+3=19626>len(data)=19624\n",
    "            # print(\"------------out_end_ix of end\",out_end_ix,'---------------')\n",
    "            break\n",
    "\n",
    "        dataX.append(data[i:end_ix,0:data.shape[1]]) ## 0:3,0:7;1:4,0:7\n",
    "        dataY.append(data[end_ix:out_end_ix,6]) ##3:6,6;4:7,6\n",
    "    return array(dataX),array(dataY)"
   ]
  },
  {
   "cell_type": "code",
   "execution_count": 98,
   "metadata": {
    "pycharm": {
     "name": "#%%\n"
    }
   },
   "outputs": [],
   "source": [
    "n_past = 1\n",
    "n_output=1\n",
    "trainX,trainY = createXY(train,n_past,n_output)\n",
    "testX,testY = createXY(test,n_past,n_output)"
   ]
  },
  {
   "cell_type": "code",
   "execution_count": 99,
   "metadata": {
    "pycharm": {
     "name": "#%%\n"
    }
   },
   "outputs": [
    {
     "name": "stdout",
     "output_type": "stream",
     "text": [
      "train Shape--- (19623, 1, 7)\n",
      "trainY Shape--- (19623, 1)\n",
      "testX Shape--- (4905, 1, 7)\n",
      "testY Shape--- (4905, 1)\n"
     ]
    }
   ],
   "source": [
    "print('train Shape---', trainX.shape)\n",
    "print('trainY Shape---', trainY.shape)\n",
    "print('testX Shape---', testX.shape)\n",
    "print('testY Shape---', testY.shape)"
   ]
  },
  {
   "cell_type": "code",
   "execution_count": 100,
   "metadata": {
    "pycharm": {
     "name": "#%%\n"
    }
   },
   "outputs": [
    {
     "data": {
      "text/plain": "(19623, 7)"
     },
     "execution_count": 100,
     "metadata": {},
     "output_type": "execute_result"
    }
   ],
   "source": [
    "trainX = trainX.reshape(trainX.shape[0],-1)\n",
    "\n",
    "trainX.shape\n"
   ]
  },
  {
   "cell_type": "code",
   "execution_count": 101,
   "metadata": {
    "pycharm": {
     "name": "#%%\n"
    }
   },
   "outputs": [
    {
     "data": {
      "text/plain": "(4905, 7)"
     },
     "execution_count": 101,
     "metadata": {},
     "output_type": "execute_result"
    }
   ],
   "source": [
    "testX = testX.reshape(testX.shape[0],-1)\n",
    "\n",
    "testX.shape\n"
   ]
  },
  {
   "cell_type": "code",
   "execution_count": 102,
   "metadata": {
    "pycharm": {
     "name": "#%%\n"
    }
   },
   "outputs": [],
   "source": [
    "# # Flatten trainY and testY to 1D arrays\n",
    "trainY = trainY.flatten()\n",
    "testY = testY.flatten()"
   ]
  },
  {
   "cell_type": "code",
   "execution_count": 103,
   "metadata": {
    "pycharm": {
     "name": "#%%\n"
    }
   },
   "outputs": [
    {
     "name": "stdout",
     "output_type": "stream",
     "text": [
      "train Shape--- (19623, 7)\n",
      "trainY Shape--- (19623,)\n",
      "testX Shape--- (4905, 7)\n",
      "testY Shape--- (4905,)\n"
     ]
    }
   ],
   "source": [
    "print('train Shape---', trainX.shape)\n",
    "print('trainY Shape---', trainY.shape)\n",
    "print('testX Shape---', testX.shape)\n",
    "print('testY Shape---', testY.shape)"
   ]
  },
  {
   "cell_type": "code",
   "execution_count": 104,
   "metadata": {
    "pycharm": {
     "name": "#%%\n"
    }
   },
   "outputs": [],
   "source": [
    "from sklearn.multioutput import MultiOutputRegressor\n",
    "from sklearn.svm import SVR\n",
    "svr = SVR(kernel='rbf')\n",
    "model =svr.fit(trainX,trainY)"
   ]
  },
  {
   "cell_type": "code",
   "execution_count": 105,
   "metadata": {
    "pycharm": {
     "name": "#%%\n"
    }
   },
   "outputs": [],
   "source": [
    "pre = model.predict(testX)"
   ]
  },
  {
   "cell_type": "code",
   "execution_count": 106,
   "metadata": {
    "pycharm": {
     "name": "#%%\n"
    }
   },
   "outputs": [],
   "source": [
    "predictions = np.array(pre).reshape(-1,1)"
   ]
  },
  {
   "cell_type": "code",
   "execution_count": 107,
   "metadata": {
    "pycharm": {
     "name": "#%%\n"
    }
   },
   "outputs": [
    {
     "data": {
      "text/plain": "array([[0.70653244],\n       [0.52270135],\n       [0.4638042 ],\n       ...,\n       [0.33813503],\n       [0.50288281],\n       [0.34372152]])"
     },
     "execution_count": 107,
     "metadata": {},
     "output_type": "execute_result"
    }
   ],
   "source": [
    "predictions"
   ]
  },
  {
   "cell_type": "code",
   "execution_count": 108,
   "metadata": {
    "pycharm": {
     "name": "#%%\n"
    }
   },
   "outputs": [],
   "source": [
    "prediction_copies_array = np.repeat(predictions,scaler_data_len,axis = -1) #将一个数组prediction在最后一个轴上（即axis=-1）进行复制，重复7次，并将"
   ]
  },
  {
   "cell_type": "code",
   "execution_count": 109,
   "metadata": {
    "pycharm": {
     "name": "#%%\n"
    }
   },
   "outputs": [
    {
     "data": {
      "text/plain": "array([[0.70653244, 0.70653244, 0.70653244, ..., 0.70653244, 0.70653244,\n        0.70653244],\n       [0.52270135, 0.52270135, 0.52270135, ..., 0.52270135, 0.52270135,\n        0.52270135],\n       [0.4638042 , 0.4638042 , 0.4638042 , ..., 0.4638042 , 0.4638042 ,\n        0.4638042 ],\n       ...,\n       [0.33813503, 0.33813503, 0.33813503, ..., 0.33813503, 0.33813503,\n        0.33813503],\n       [0.50288281, 0.50288281, 0.50288281, ..., 0.50288281, 0.50288281,\n        0.50288281],\n       [0.34372152, 0.34372152, 0.34372152, ..., 0.34372152, 0.34372152,\n        0.34372152]])"
     },
     "execution_count": 109,
     "metadata": {},
     "output_type": "execute_result"
    }
   ],
   "source": [
    "prediction_copies_array"
   ]
  },
  {
   "cell_type": "code",
   "execution_count": 110,
   "metadata": {
    "pycharm": {
     "name": "#%%\n"
    }
   },
   "outputs": [],
   "source": [
    "pre_inverse = scaler.inverse_transform(np.reshape(prediction_copies_array,(len(prediction_copies_array),scaler_data_len)))"
   ]
  },
  {
   "cell_type": "code",
   "execution_count": 111,
   "metadata": {
    "pycharm": {
     "name": "#%%\n"
    }
   },
   "outputs": [
    {
     "data": {
      "text/plain": "array([[2.75406936e+01, 1.94797898e+01, 9.32622820e+00, ...,\n        7.68160627e+01, 7.06532440e+05, 6.35145509e+00],\n       [1.93602100e+01, 1.18875657e+01, 6.89965779e+00, ...,\n        6.22934065e+01, 5.22701348e+05, 4.77393798e+00],\n       [1.67392868e+01, 9.45511337e+00, 6.12221541e+00, ...,\n        5.76405316e+01, 4.63804198e+05, 4.26852152e+00],\n       ...,\n       [1.11470087e+01, 4.26497665e+00, 4.46338237e+00, ...,\n        4.77126672e+01, 3.38135028e+05, 3.19011164e+00],\n       [1.84782849e+01, 1.10690599e+01, 6.63805306e+00, ...,\n        6.07277418e+01, 5.02882807e+05, 4.60386835e+00],\n       [1.13956077e+01, 4.49569885e+00, 4.53712409e+00, ...,\n        4.81540002e+01, 3.43721522e+05, 3.23805124e+00]])"
     },
     "execution_count": 111,
     "metadata": {},
     "output_type": "execute_result"
    }
   ],
   "source": [
    "pre_inverse"
   ]
  },
  {
   "cell_type": "code",
   "execution_count": 112,
   "metadata": {
    "pycharm": {
     "name": "#%%\n"
    }
   },
   "outputs": [],
   "source": [
    "pred = pre_inverse[:,6]"
   ]
  },
  {
   "cell_type": "code",
   "execution_count": 113,
   "metadata": {
    "pycharm": {
     "name": "#%%\n"
    }
   },
   "outputs": [
    {
     "data": {
      "text/plain": "array([6.35145509, 4.77393798, 4.26852152, ..., 3.19011164, 4.60386835,\n       3.23805124])"
     },
     "execution_count": 113,
     "metadata": {},
     "output_type": "execute_result"
    }
   ],
   "source": [
    "pred"
   ]
  },
  {
   "cell_type": "code",
   "execution_count": 114,
   "metadata": {
    "pycharm": {
     "name": "#%%\n"
    }
   },
   "outputs": [],
   "source": [
    "test_data = np.array(testY).reshape(-1, 1)"
   ]
  },
  {
   "cell_type": "code",
   "execution_count": 115,
   "metadata": {
    "pycharm": {
     "name": "#%%\n"
    }
   },
   "outputs": [
    {
     "data": {
      "text/plain": "array([[0.5428686 ],\n       [0.40920649],\n       [0.59428248],\n       ...,\n       [0.48985823],\n       [0.53142516],\n       [0.63989307]])"
     },
     "execution_count": 115,
     "metadata": {},
     "output_type": "execute_result"
    }
   ],
   "source": [
    "test_data"
   ]
  },
  {
   "cell_type": "code",
   "execution_count": 116,
   "metadata": {
    "pycharm": {
     "name": "#%%\n"
    }
   },
   "outputs": [],
   "source": [
    "# copies_test_data = np.repeat(test_data, trainX.shape[1],axis=-1)  # 将一个数组prediction在最后一个轴上（即axis=-1）进行复制，重复8次，并将\n",
    "copies_test_data = np.repeat(test_data, scaler_data_len, axis=-1)  # 将一个数组prediction在最后一个轴上（即axis=-1）进行复制，重复8次，并将"
   ]
  },
  {
   "cell_type": "code",
   "execution_count": 117,
   "metadata": {
    "pycharm": {
     "name": "#%%\n"
    }
   },
   "outputs": [
    {
     "data": {
      "text/plain": "array([[0.5428686 , 0.5428686 , 0.5428686 , ..., 0.5428686 , 0.5428686 ,\n        0.5428686 ],\n       [0.40920649, 0.40920649, 0.40920649, ..., 0.40920649, 0.40920649,\n        0.40920649],\n       [0.59428248, 0.59428248, 0.59428248, ..., 0.59428248, 0.59428248,\n        0.59428248],\n       ...,\n       [0.48985823, 0.48985823, 0.48985823, ..., 0.48985823, 0.48985823,\n        0.48985823],\n       [0.53142516, 0.53142516, 0.53142516, ..., 0.53142516, 0.53142516,\n        0.53142516],\n       [0.63989307, 0.63989307, 0.63989307, ..., 0.63989307, 0.63989307,\n        0.63989307]])"
     },
     "execution_count": 117,
     "metadata": {},
     "output_type": "execute_result"
    }
   ],
   "source": [
    "copies_test_data"
   ]
  },
  {
   "cell_type": "code",
   "execution_count": 118,
   "metadata": {
    "pycharm": {
     "name": "#%%\n"
    }
   },
   "outputs": [],
   "source": [
    "# test_data = scaler.inverse_transform(np.reshape(copies_test_data, (len(test_data), trainX.shape[1])))[:,6]  # 进行逆变换但是，只需要最后一列\n",
    "test_data = scaler.inverse_transform(np.reshape(copies_test_data, (len(test_data), scaler_data_len)))[:,6]  # 进行逆变换但是，只需要最后一列"
   ]
  },
  {
   "cell_type": "code",
   "execution_count": 119,
   "metadata": {
    "pycharm": {
     "name": "#%%\n"
    }
   },
   "outputs": [],
   "source": [
    "test_data = test_data[0:len(test_data)-1]"
   ]
  },
  {
   "cell_type": "code",
   "execution_count": 120,
   "metadata": {
    "pycharm": {
     "name": "#%%\n"
    }
   },
   "outputs": [],
   "source": [
    "pred = pred[1:]"
   ]
  },
  {
   "cell_type": "code",
   "execution_count": 121,
   "metadata": {
    "pycharm": {
     "name": "#%%\n"
    }
   },
   "outputs": [
    {
     "data": {
      "text/plain": "array([4.947 , 3.8   , 5.3882, ..., 3.3582, 4.4921, 4.8488])"
     },
     "execution_count": 121,
     "metadata": {},
     "output_type": "execute_result"
    }
   ],
   "source": [
    "test_data"
   ]
  },
  {
   "cell_type": "code",
   "execution_count": 122,
   "metadata": {
    "pycharm": {
     "name": "#%%\n"
    }
   },
   "outputs": [
    {
     "data": {
      "text/plain": "array([4.77393798, 4.26852152, 5.03576855, ..., 3.19011164, 4.60386835,\n       3.23805124])"
     },
     "execution_count": 122,
     "metadata": {},
     "output_type": "execute_result"
    }
   ],
   "source": [
    "pred"
   ]
  },
  {
   "cell_type": "code",
   "execution_count": 123,
   "outputs": [
    {
     "name": "stdout",
     "output_type": "stream",
     "text": [
      "rmse : 0.500315056163287\n",
      "mae : 0.4369409300420578\n",
      "R² : 0.9177187465045142\n"
     ]
    },
    {
     "data": {
      "text/plain": "<Figure size 640x480 with 1 Axes>",
      "image/png": "[encoded data removed]"
     },
     "metadata": {},
     "output_type": "display_data"
    }
   ],
   "source": [
    "y = np.array(test_data)\n",
    "y_pred = pred\n",
    "MSE = mean_squared_error(y, y_pred)\n",
    "RMSE = math.sqrt(MSE)\n",
    "# MAE=mean_absolute_error(y, pre)\n",
    "# MAPE = metrics.mean_absolute_percentage_error(y, pre)\n",
    "MAE = np.mean(np.abs(y - y_pred))\n",
    "# MAPE = np.mean(np.abs((y - y_pred) / y))\n",
    "print(\"rmse :\", RMSE)\n",
    "print(\"mae :\", MAE)\n",
    "# print(\"mape :\", MAPE)\n",
    "print('R² :', r2(y, y_pred))\n",
    "plt.plot(y, color='red', label='Real Value')\n",
    "plt.plot(y_pred, color='blue', label='Pred Value')\n",
    "plt.title('Prediction Water Level')\n",
    "plt.xlabel('Time')\n",
    "plt.ylabel('Detail Value')\n",
    "plt.legend()\n",
    "plt.show()"
   ],
   "metadata": {
    "collapsed": false,
    "pycharm": {
     "name": "#%%\n"
    }
   }
  },
  {
   "cell_type": "code",
   "execution_count": null,
   "outputs": [],
   "source": [],
   "metadata": {
    "collapsed": false,
    "pycharm": {
     "name": "#%%\n"
    }
   }
  }
 ],
 "metadata": {
  "kernelspec": {
   "display_name": "Python 3 (ipykernel)",
   "language": "python",
   "name": "python3"
  },
  "language_info": {
   "codemirror_mode": {
    "name": "ipython",
    "version": 3
   },
   "file_extension": ".py",
   "mimetype": "text/x-python",
   "name": "python",
   "nbconvert_exporter": "python",
   "pygments_lexer": "ipython3",
   "version": "3.11.2"
  }
 },
 "nbformat": 4,
 "nbformat_minor": 1
}